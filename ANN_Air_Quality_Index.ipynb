{
 "cells": [
  {
   "cell_type": "markdown",
   "metadata": {},
   "source": [
    "## ANN for Air Quality Index Prediction"
   ]
  },
  {
   "cell_type": "code",
   "execution_count": 7,
   "metadata": {},
   "outputs": [],
   "source": [
    "import pandas as pd\n",
    "import numpy as np\n",
    "import matplotlib.pyplot as plt\n",
    "import seaborn as sns\n",
    "\n",
    "from xgboost import XGBRegressor\n",
    "\n",
    "from sklearn.model_selection import train_test_split, cross_val_score\n",
    "from sklearn.metrics import mean_squared_error\n",
    "from sklearn.model_selection import GridSearchCV, RandomizedSearchCV\n",
    "import warnings\n",
    "\n",
    "from tensorflow.keras.layers import Activation, Dense, Dropout\n",
    "from tensorflow.keras.models import Sequential\n",
    "\n",
    "\n",
    "%matplotlib inline\n",
    "warnings.filterwarnings(\"ignore\")"
   ]
  },
  {
   "cell_type": "code",
   "execution_count": 2,
   "metadata": {},
   "outputs": [],
   "source": [
    "data = pd.read_pickle(\"./data/data_air_quality_index.pkl\")"
   ]
  },
  {
   "cell_type": "code",
   "execution_count": 3,
   "metadata": {},
   "outputs": [
    {
     "data": {
      "text/html": [
       "<div>\n",
       "<style scoped>\n",
       "    .dataframe tbody tr th:only-of-type {\n",
       "        vertical-align: middle;\n",
       "    }\n",
       "\n",
       "    .dataframe tbody tr th {\n",
       "        vertical-align: top;\n",
       "    }\n",
       "\n",
       "    .dataframe thead th {\n",
       "        text-align: right;\n",
       "    }\n",
       "</style>\n",
       "<table border=\"1\" class=\"dataframe\">\n",
       "  <thead>\n",
       "    <tr style=\"text-align: right;\">\n",
       "      <th></th>\n",
       "      <th>T</th>\n",
       "      <th>TM</th>\n",
       "      <th>Tm</th>\n",
       "      <th>SLP</th>\n",
       "      <th>H</th>\n",
       "      <th>VV</th>\n",
       "      <th>V</th>\n",
       "      <th>VM</th>\n",
       "      <th>PM 2.5</th>\n",
       "    </tr>\n",
       "  </thead>\n",
       "  <tbody>\n",
       "    <tr>\n",
       "      <td>0</td>\n",
       "      <td>7.4</td>\n",
       "      <td>9.8</td>\n",
       "      <td>4.8</td>\n",
       "      <td>1017.6</td>\n",
       "      <td>93.0</td>\n",
       "      <td>0.5</td>\n",
       "      <td>4.3</td>\n",
       "      <td>9.4</td>\n",
       "      <td>219.720833</td>\n",
       "    </tr>\n",
       "    <tr>\n",
       "      <td>1</td>\n",
       "      <td>7.8</td>\n",
       "      <td>12.7</td>\n",
       "      <td>4.4</td>\n",
       "      <td>1018.5</td>\n",
       "      <td>87.0</td>\n",
       "      <td>0.6</td>\n",
       "      <td>4.4</td>\n",
       "      <td>11.1</td>\n",
       "      <td>182.187500</td>\n",
       "    </tr>\n",
       "    <tr>\n",
       "      <td>2</td>\n",
       "      <td>6.7</td>\n",
       "      <td>13.4</td>\n",
       "      <td>2.4</td>\n",
       "      <td>1019.4</td>\n",
       "      <td>82.0</td>\n",
       "      <td>0.6</td>\n",
       "      <td>4.8</td>\n",
       "      <td>11.1</td>\n",
       "      <td>154.037500</td>\n",
       "    </tr>\n",
       "    <tr>\n",
       "      <td>3</td>\n",
       "      <td>8.6</td>\n",
       "      <td>15.5</td>\n",
       "      <td>3.3</td>\n",
       "      <td>1018.7</td>\n",
       "      <td>72.0</td>\n",
       "      <td>0.8</td>\n",
       "      <td>8.1</td>\n",
       "      <td>20.6</td>\n",
       "      <td>223.208333</td>\n",
       "    </tr>\n",
       "    <tr>\n",
       "      <td>4</td>\n",
       "      <td>12.4</td>\n",
       "      <td>20.9</td>\n",
       "      <td>4.4</td>\n",
       "      <td>1017.3</td>\n",
       "      <td>61.0</td>\n",
       "      <td>1.3</td>\n",
       "      <td>8.7</td>\n",
       "      <td>22.2</td>\n",
       "      <td>200.645833</td>\n",
       "    </tr>\n",
       "  </tbody>\n",
       "</table>\n",
       "</div>"
      ],
      "text/plain": [
       "      T    TM   Tm     SLP     H   VV    V    VM      PM 2.5\n",
       "0   7.4   9.8  4.8  1017.6  93.0  0.5  4.3   9.4  219.720833\n",
       "1   7.8  12.7  4.4  1018.5  87.0  0.6  4.4  11.1  182.187500\n",
       "2   6.7  13.4  2.4  1019.4  82.0  0.6  4.8  11.1  154.037500\n",
       "3   8.6  15.5  3.3  1018.7  72.0  0.8  8.1  20.6  223.208333\n",
       "4  12.4  20.9  4.4  1017.3  61.0  1.3  8.7  22.2  200.645833"
      ]
     },
     "execution_count": 3,
     "metadata": {},
     "output_type": "execute_result"
    }
   ],
   "source": [
    "data.head()"
   ]
  },
  {
   "cell_type": "code",
   "execution_count": 4,
   "metadata": {},
   "outputs": [
    {
     "data": {
      "text/plain": [
       "(1093, 9)"
      ]
     },
     "execution_count": 4,
     "metadata": {},
     "output_type": "execute_result"
    }
   ],
   "source": [
    "data.shape"
   ]
  },
  {
   "cell_type": "code",
   "execution_count": 5,
   "metadata": {},
   "outputs": [],
   "source": [
    "X = data.iloc[:, :-1]\n",
    "y = data.iloc[:, -1]"
   ]
  },
  {
   "cell_type": "code",
   "execution_count": 6,
   "metadata": {},
   "outputs": [],
   "source": [
    "X_train, X_test, y_train, y_test = train_test_split(X, y, test_size=0.2)"
   ]
  },
  {
   "cell_type": "code",
   "execution_count": null,
   "metadata": {},
   "outputs": [],
   "source": []
  },
  {
   "cell_type": "code",
   "execution_count": 15,
   "metadata": {},
   "outputs": [],
   "source": [
    "ann =Sequential()"
   ]
  },
  {
   "cell_type": "code",
   "execution_count": 16,
   "metadata": {},
   "outputs": [
    {
     "data": {
      "text/plain": [
       "874"
      ]
     },
     "execution_count": 16,
     "metadata": {},
     "output_type": "execute_result"
    }
   ],
   "source": [
    "X_train.shape[0]"
   ]
  },
  {
   "cell_type": "code",
   "execution_count": 19,
   "metadata": {},
   "outputs": [
    {
     "name": "stdout",
     "output_type": "stream",
     "text": [
      "WARNING:tensorflow:Falling back from v2 loop because of error: Failed to find data adapter that can handle input: <class 'pandas.core.frame.DataFrame'>, <class 'NoneType'>\n",
      "Train on 611 samples, validate on 263 samples\n",
      "Epoch 1/100\n",
      "611/611 [==============================] - 0s 745us/sample - loss: 110.7706 - mean_absolute_error: 110.7706 - val_loss: 101.8522 - val_mean_absolute_error: 101.8522\n",
      "Epoch 2/100\n",
      "611/611 [==============================] - 0s 131us/sample - loss: 94.6194 - mean_absolute_error: 94.6194 - val_loss: 75.5866 - val_mean_absolute_error: 75.5866\n",
      "Epoch 3/100\n",
      "611/611 [==============================] - 0s 157us/sample - loss: 69.9396 - mean_absolute_error: 69.9396 - val_loss: 75.7741 - val_mean_absolute_error: 75.7741\n",
      "Epoch 4/100\n",
      "611/611 [==============================] - 0s 128us/sample - loss: 69.9743 - mean_absolute_error: 69.9743 - val_loss: 72.8964 - val_mean_absolute_error: 72.8964\n",
      "Epoch 5/100\n",
      "611/611 [==============================] - 0s 144us/sample - loss: 66.1746 - mean_absolute_error: 66.1747 - val_loss: 68.1519 - val_mean_absolute_error: 68.1519\n",
      "Epoch 6/100\n",
      "611/611 [==============================] - 0s 144us/sample - loss: 63.9207 - mean_absolute_error: 63.9207 - val_loss: 71.3682 - val_mean_absolute_error: 71.3682\n",
      "Epoch 7/100\n",
      "611/611 [==============================] - 0s 157us/sample - loss: 67.2032 - mean_absolute_error: 67.2032 - val_loss: 70.1736 - val_mean_absolute_error: 70.1736\n",
      "Epoch 8/100\n",
      "611/611 [==============================] - 0s 144us/sample - loss: 65.7873 - mean_absolute_error: 65.7873 - val_loss: 67.8487 - val_mean_absolute_error: 67.8487\n",
      "Epoch 9/100\n",
      "611/611 [==============================] - 0s 144us/sample - loss: 62.9401 - mean_absolute_error: 62.9401 - val_loss: 69.6007 - val_mean_absolute_error: 69.6007\n",
      "Epoch 10/100\n",
      "611/611 [==============================] - 0s 144us/sample - loss: 64.7469 - mean_absolute_error: 64.7469 - val_loss: 70.5082 - val_mean_absolute_error: 70.5082\n",
      "Epoch 11/100\n",
      "611/611 [==============================] - 0s 170us/sample - loss: 65.0427 - mean_absolute_error: 65.0427 - val_loss: 67.9273 - val_mean_absolute_error: 67.9273\n",
      "Epoch 12/100\n",
      "611/611 [==============================] - 0s 144us/sample - loss: 63.1635 - mean_absolute_error: 63.1635 - val_loss: 68.3201 - val_mean_absolute_error: 68.3201\n",
      "Epoch 13/100\n",
      "611/611 [==============================] - 0s 144us/sample - loss: 63.8739 - mean_absolute_error: 63.8739 - val_loss: 68.7649 - val_mean_absolute_error: 68.7649\n",
      "Epoch 14/100\n",
      "611/611 [==============================] - 0s 144us/sample - loss: 64.2607 - mean_absolute_error: 64.2607 - val_loss: 67.7214 - val_mean_absolute_error: 67.7214\n",
      "Epoch 15/100\n",
      "611/611 [==============================] - 0s 144us/sample - loss: 63.0642 - mean_absolute_error: 63.0642 - val_loss: 67.9232 - val_mean_absolute_error: 67.9232\n",
      "Epoch 16/100\n",
      "611/611 [==============================] - 0s 144us/sample - loss: 63.3073 - mean_absolute_error: 63.3073 - val_loss: 68.2795 - val_mean_absolute_error: 68.2795\n",
      "Epoch 17/100\n",
      "611/611 [==============================] - 0s 157us/sample - loss: 63.2997 - mean_absolute_error: 63.2997 - val_loss: 67.5391 - val_mean_absolute_error: 67.5391\n",
      "Epoch 18/100\n",
      "611/611 [==============================] - 0s 144us/sample - loss: 62.5406 - mean_absolute_error: 62.5406 - val_loss: 68.0917 - val_mean_absolute_error: 68.0917\n",
      "Epoch 19/100\n",
      "611/611 [==============================] - 0s 223us/sample - loss: 63.6886 - mean_absolute_error: 63.6886 - val_loss: 68.3634 - val_mean_absolute_error: 68.3634\n",
      "Epoch 20/100\n",
      "611/611 [==============================] - 0s 170us/sample - loss: 63.7881 - mean_absolute_error: 63.7881 - val_loss: 67.3123 - val_mean_absolute_error: 67.3123\n",
      "Epoch 21/100\n",
      "611/611 [==============================] - 0s 144us/sample - loss: 62.5317 - mean_absolute_error: 62.5317 - val_loss: 67.7182 - val_mean_absolute_error: 67.7182\n",
      "Epoch 22/100\n",
      "611/611 [==============================] - 0s 157us/sample - loss: 63.0305 - mean_absolute_error: 63.0305 - val_loss: 68.0540 - val_mean_absolute_error: 68.0540\n",
      "Epoch 23/100\n",
      "611/611 [==============================] - 0s 183us/sample - loss: 63.1715 - mean_absolute_error: 63.1715 - val_loss: 67.2095 - val_mean_absolute_error: 67.2095\n",
      "Epoch 24/100\n",
      "611/611 [==============================] - 0s 150us/sample - loss: 62.2290 - mean_absolute_error: 62.2290 - val_loss: 67.1133 - val_mean_absolute_error: 67.1133\n",
      "Epoch 25/100\n",
      "611/611 [==============================] - 0s 138us/sample - loss: 62.4826 - mean_absolute_error: 62.4826 - val_loss: 67.2141 - val_mean_absolute_error: 67.2141\n",
      "Epoch 26/100\n",
      "611/611 [==============================] - 0s 131us/sample - loss: 62.4918 - mean_absolute_error: 62.4918 - val_loss: 66.8136 - val_mean_absolute_error: 66.8136\n",
      "Epoch 27/100\n",
      "611/611 [==============================] - 0s 170us/sample - loss: 61.9575 - mean_absolute_error: 61.9575 - val_loss: 66.8475 - val_mean_absolute_error: 66.8475\n",
      "Epoch 28/100\n",
      "611/611 [==============================] - 0s 144us/sample - loss: 61.9384 - mean_absolute_error: 61.9384 - val_loss: 66.9210 - val_mean_absolute_error: 66.9210\n",
      "Epoch 29/100\n",
      "611/611 [==============================] - 0s 131us/sample - loss: 62.0261 - mean_absolute_error: 62.0261 - val_loss: 67.1067 - val_mean_absolute_error: 67.1067\n",
      "Epoch 30/100\n",
      "611/611 [==============================] - 0s 127us/sample - loss: 62.1672 - mean_absolute_error: 62.1672 - val_loss: 66.4074 - val_mean_absolute_error: 66.4074\n",
      "Epoch 31/100\n",
      "611/611 [==============================] - 0s 123us/sample - loss: 61.3587 - mean_absolute_error: 61.3587 - val_loss: 66.3901 - val_mean_absolute_error: 66.3901\n",
      "Epoch 32/100\n",
      "611/611 [==============================] - 0s 137us/sample - loss: 61.5767 - mean_absolute_error: 61.5767 - val_loss: 66.7950 - val_mean_absolute_error: 66.7950\n",
      "Epoch 33/100\n",
      "611/611 [==============================] - 0s 133us/sample - loss: 62.0545 - mean_absolute_error: 62.0545 - val_loss: 65.8520 - val_mean_absolute_error: 65.8520\n",
      "Epoch 34/100\n",
      "611/611 [==============================] - 0s 208us/sample - loss: 61.0400 - mean_absolute_error: 61.0400 - val_loss: 65.6031 - val_mean_absolute_error: 65.6031\n",
      "Epoch 35/100\n",
      "611/611 [==============================] - 0s 170us/sample - loss: 60.6069 - mean_absolute_error: 60.6069 - val_loss: 65.5714 - val_mean_absolute_error: 65.5714\n",
      "Epoch 36/100\n",
      "611/611 [==============================] - 0s 144us/sample - loss: 60.5611 - mean_absolute_error: 60.5611 - val_loss: 64.9486 - val_mean_absolute_error: 64.9486\n",
      "Epoch 37/100\n",
      "611/611 [==============================] - 0s 131us/sample - loss: 59.8695 - mean_absolute_error: 59.8695 - val_loss: 64.2411 - val_mean_absolute_error: 64.2411\n",
      "Epoch 38/100\n",
      "611/611 [==============================] - 0s 121us/sample - loss: 59.3157 - mean_absolute_error: 59.3157 - val_loss: 63.6883 - val_mean_absolute_error: 63.6883\n",
      "Epoch 39/100\n",
      "611/611 [==============================] - 0s 118us/sample - loss: 58.5001 - mean_absolute_error: 58.5001 - val_loss: 63.4527 - val_mean_absolute_error: 63.4527\n",
      "Epoch 40/100\n",
      "611/611 [==============================] - 0s 115us/sample - loss: 58.3926 - mean_absolute_error: 58.3926 - val_loss: 61.9897 - val_mean_absolute_error: 61.9897\n",
      "Epoch 41/100\n",
      "611/611 [==============================] - 0s 131us/sample - loss: 56.8195 - mean_absolute_error: 56.8195 - val_loss: 62.1229 - val_mean_absolute_error: 62.1229\n",
      "Epoch 42/100\n",
      "611/611 [==============================] - 0s 125us/sample - loss: 57.1522 - mean_absolute_error: 57.1522 - val_loss: 59.8769 - val_mean_absolute_error: 59.8769\n",
      "Epoch 43/100\n",
      "611/611 [==============================] - 0s 142us/sample - loss: 54.3691 - mean_absolute_error: 54.3691 - val_loss: 58.2194 - val_mean_absolute_error: 58.2194\n",
      "Epoch 44/100\n",
      "611/611 [==============================] - 0s 131us/sample - loss: 52.6061 - mean_absolute_error: 52.6061 - val_loss: 55.9729 - val_mean_absolute_error: 55.9729\n",
      "Epoch 45/100\n",
      "611/611 [==============================] - 0s 131us/sample - loss: 50.3044 - mean_absolute_error: 50.3044 - val_loss: 53.6187 - val_mean_absolute_error: 53.6187\n",
      "Epoch 46/100\n",
      "611/611 [==============================] - 0s 144us/sample - loss: 47.3418 - mean_absolute_error: 47.3418 - val_loss: 52.8871 - val_mean_absolute_error: 52.8871\n"
     ]
    },
    {
     "name": "stdout",
     "output_type": "stream",
     "text": [
      "Epoch 47/100\n",
      "611/611 [==============================] - 0s 131us/sample - loss: 51.1313 - mean_absolute_error: 51.1313 - val_loss: 48.6970 - val_mean_absolute_error: 48.6970\n",
      "Epoch 48/100\n",
      "611/611 [==============================] - 0s 119us/sample - loss: 45.1253 - mean_absolute_error: 45.1253 - val_loss: 48.5136 - val_mean_absolute_error: 48.5136\n",
      "Epoch 49/100\n",
      "611/611 [==============================] - 0s 131us/sample - loss: 44.3349 - mean_absolute_error: 44.3349 - val_loss: 47.7699 - val_mean_absolute_error: 47.7699\n",
      "Epoch 50/100\n",
      "611/611 [==============================] - 0s 131us/sample - loss: 44.2064 - mean_absolute_error: 44.2064 - val_loss: 47.2023 - val_mean_absolute_error: 47.2023\n",
      "Epoch 51/100\n",
      "611/611 [==============================] - 0s 131us/sample - loss: 43.1829 - mean_absolute_error: 43.1829 - val_loss: 59.7521 - val_mean_absolute_error: 59.7521\n",
      "Epoch 52/100\n",
      "611/611 [==============================] - 0s 124us/sample - loss: 50.9816 - mean_absolute_error: 50.9816 - val_loss: 52.5600 - val_mean_absolute_error: 52.5600\n",
      "Epoch 53/100\n",
      "611/611 [==============================] - 0s 115us/sample - loss: 51.7197 - mean_absolute_error: 51.7197 - val_loss: 54.1914 - val_mean_absolute_error: 54.1914\n",
      "Epoch 54/100\n",
      "611/611 [==============================] - 0s 130us/sample - loss: 47.5328 - mean_absolute_error: 47.5328 - val_loss: 47.1699 - val_mean_absolute_error: 47.1699\n",
      "Epoch 55/100\n",
      "611/611 [==============================] - 0s 137us/sample - loss: 44.1940 - mean_absolute_error: 44.1940 - val_loss: 47.8087 - val_mean_absolute_error: 47.8087\n",
      "Epoch 56/100\n",
      "611/611 [==============================] - 0s 147us/sample - loss: 45.0113 - mean_absolute_error: 45.0113 - val_loss: 49.1529 - val_mean_absolute_error: 49.1529\n",
      "Epoch 57/100\n",
      "611/611 [==============================] - 0s 137us/sample - loss: 43.7785 - mean_absolute_error: 43.7785 - val_loss: 47.0959 - val_mean_absolute_error: 47.0959\n",
      "Epoch 58/100\n",
      "611/611 [==============================] - 0s 157us/sample - loss: 43.1444 - mean_absolute_error: 43.1444 - val_loss: 47.3856 - val_mean_absolute_error: 47.3856\n",
      "Epoch 59/100\n",
      "611/611 [==============================] - 0s 144us/sample - loss: 42.9713 - mean_absolute_error: 42.9713 - val_loss: 48.7313 - val_mean_absolute_error: 48.7313\n",
      "Epoch 60/100\n",
      "611/611 [==============================] - 0s 131us/sample - loss: 43.0600 - mean_absolute_error: 43.0600 - val_loss: 46.7471 - val_mean_absolute_error: 46.7471\n",
      "Epoch 61/100\n",
      "611/611 [==============================] - 0s 123us/sample - loss: 43.8882 - mean_absolute_error: 43.8882 - val_loss: 46.9437 - val_mean_absolute_error: 46.9437\n",
      "Epoch 62/100\n",
      "611/611 [==============================] - 0s 121us/sample - loss: 42.4694 - mean_absolute_error: 42.4694 - val_loss: 49.5304 - val_mean_absolute_error: 49.5304\n",
      "Epoch 63/100\n",
      "611/611 [==============================] - 0s 135us/sample - loss: 43.7103 - mean_absolute_error: 43.7104 - val_loss: 46.4385 - val_mean_absolute_error: 46.4385\n",
      "Epoch 64/100\n",
      "611/611 [==============================] - 0s 124us/sample - loss: 42.6256 - mean_absolute_error: 42.6256 - val_loss: 46.4075 - val_mean_absolute_error: 46.4075\n",
      "Epoch 65/100\n",
      "611/611 [==============================] - 0s 126us/sample - loss: 42.6055 - mean_absolute_error: 42.6055 - val_loss: 48.3265 - val_mean_absolute_error: 48.3265\n",
      "Epoch 66/100\n",
      "611/611 [==============================] - 0s 133us/sample - loss: 43.0454 - mean_absolute_error: 43.0454 - val_loss: 46.1113 - val_mean_absolute_error: 46.1113\n",
      "Epoch 67/100\n",
      "611/611 [==============================] - 0s 106us/sample - loss: 42.3984 - mean_absolute_error: 42.3984 - val_loss: 45.8547 - val_mean_absolute_error: 45.8547\n",
      "Epoch 68/100\n",
      "611/611 [==============================] - 0s 113us/sample - loss: 42.5654 - mean_absolute_error: 42.5654 - val_loss: 46.5937 - val_mean_absolute_error: 46.5937\n",
      "Epoch 69/100\n",
      "611/611 [==============================] - 0s 127us/sample - loss: 42.1375 - mean_absolute_error: 42.1375 - val_loss: 45.9777 - val_mean_absolute_error: 45.9777\n",
      "Epoch 70/100\n",
      "611/611 [==============================] - 0s 112us/sample - loss: 42.2459 - mean_absolute_error: 42.2459 - val_loss: 47.4807 - val_mean_absolute_error: 47.4807\n",
      "Epoch 71/100\n",
      "611/611 [==============================] - 0s 117us/sample - loss: 42.4543 - mean_absolute_error: 42.4543 - val_loss: 46.2924 - val_mean_absolute_error: 46.2924\n",
      "Epoch 72/100\n",
      "611/611 [==============================] - 0s 123us/sample - loss: 41.9303 - mean_absolute_error: 41.9303 - val_loss: 46.2395 - val_mean_absolute_error: 46.2395\n",
      "Epoch 73/100\n",
      "611/611 [==============================] - 0s 128us/sample - loss: 43.2209 - mean_absolute_error: 43.2209 - val_loss: 47.3207 - val_mean_absolute_error: 47.3207\n",
      "Epoch 74/100\n",
      "611/611 [==============================] - 0s 118us/sample - loss: 42.3691 - mean_absolute_error: 42.3691 - val_loss: 47.3287 - val_mean_absolute_error: 47.3287\n",
      "Epoch 75/100\n",
      "611/611 [==============================] - 0s 114us/sample - loss: 42.1686 - mean_absolute_error: 42.1686 - val_loss: 45.6900 - val_mean_absolute_error: 45.6900\n",
      "Epoch 76/100\n",
      "611/611 [==============================] - 0s 223us/sample - loss: 42.7102 - mean_absolute_error: 42.7102 - val_loss: 46.8268 - val_mean_absolute_error: 46.8268\n",
      "Epoch 77/100\n",
      "611/611 [==============================] - 0s 144us/sample - loss: 42.1852 - mean_absolute_error: 42.1852 - val_loss: 45.7511 - val_mean_absolute_error: 45.7511\n",
      "Epoch 78/100\n",
      "611/611 [==============================] - 0s 167us/sample - loss: 42.3520 - mean_absolute_error: 42.3520 - val_loss: 46.8063 - val_mean_absolute_error: 46.8063\n",
      "Epoch 79/100\n",
      "611/611 [==============================] - 0s 165us/sample - loss: 42.1698 - mean_absolute_error: 42.1698 - val_loss: 47.5365 - val_mean_absolute_error: 47.5365\n",
      "Epoch 80/100\n",
      "611/611 [==============================] - 0s 170us/sample - loss: 42.0415 - mean_absolute_error: 42.0415 - val_loss: 47.5199 - val_mean_absolute_error: 47.5199\n",
      "Epoch 81/100\n",
      "611/611 [==============================] - 0s 155us/sample - loss: 45.2646 - mean_absolute_error: 45.2646 - val_loss: 46.9957 - val_mean_absolute_error: 46.9957\n",
      "Epoch 82/100\n",
      "611/611 [==============================] - 0s 146us/sample - loss: 42.0112 - mean_absolute_error: 42.0112 - val_loss: 46.4042 - val_mean_absolute_error: 46.4042\n",
      "Epoch 83/100\n",
      "611/611 [==============================] - 0s 131us/sample - loss: 41.6667 - mean_absolute_error: 41.6667 - val_loss: 45.7285 - val_mean_absolute_error: 45.7285\n",
      "Epoch 84/100\n",
      "611/611 [==============================] - 0s 112us/sample - loss: 42.1868 - mean_absolute_error: 42.1869 - val_loss: 46.4994 - val_mean_absolute_error: 46.4994\n",
      "Epoch 85/100\n",
      "611/611 [==============================] - 0s 115us/sample - loss: 41.7544 - mean_absolute_error: 41.7544 - val_loss: 48.2663 - val_mean_absolute_error: 48.2663\n",
      "Epoch 86/100\n",
      "611/611 [==============================] - 0s 121us/sample - loss: 42.8014 - mean_absolute_error: 42.8014 - val_loss: 46.1255 - val_mean_absolute_error: 46.1255\n",
      "Epoch 87/100\n",
      "611/611 [==============================] - 0s 121us/sample - loss: 41.5665 - mean_absolute_error: 41.5665 - val_loss: 46.5949 - val_mean_absolute_error: 46.5949\n",
      "Epoch 88/100\n",
      "611/611 [==============================] - 0s 173us/sample - loss: 41.7836 - mean_absolute_error: 41.7836 - val_loss: 45.9962 - val_mean_absolute_error: 45.9962\n",
      "Epoch 89/100\n",
      "611/611 [==============================] - 0s 144us/sample - loss: 41.5269 - mean_absolute_error: 41.5269 - val_loss: 47.3166 - val_mean_absolute_error: 47.3166\n",
      "Epoch 90/100\n",
      "611/611 [==============================] - 0s 118us/sample - loss: 42.0421 - mean_absolute_error: 42.0421 - val_loss: 45.5196 - val_mean_absolute_error: 45.5196\n",
      "Epoch 91/100\n",
      "611/611 [==============================] - 0s 144us/sample - loss: 41.6053 - mean_absolute_error: 41.6053 - val_loss: 45.3697 - val_mean_absolute_error: 45.3697\n",
      "Epoch 92/100\n",
      "611/611 [==============================] - 0s 113us/sample - loss: 41.7383 - mean_absolute_error: 41.7383 - val_loss: 46.0176 - val_mean_absolute_error: 46.0176\n",
      "Epoch 93/100\n",
      "611/611 [==============================] - 0s 117us/sample - loss: 41.4979 - mean_absolute_error: 41.4979 - val_loss: 45.2436 - val_mean_absolute_error: 45.2436\n",
      "Epoch 94/100\n"
     ]
    },
    {
     "name": "stdout",
     "output_type": "stream",
     "text": [
      "611/611 [==============================] - 0s 124us/sample - loss: 41.7243 - mean_absolute_error: 41.7243 - val_loss: 45.5106 - val_mean_absolute_error: 45.5106\n",
      "Epoch 95/100\n",
      "611/611 [==============================] - 0s 123us/sample - loss: 41.6453 - mean_absolute_error: 41.6453 - val_loss: 45.2985 - val_mean_absolute_error: 45.2985\n",
      "Epoch 96/100\n",
      "611/611 [==============================] - 0s 118us/sample - loss: 41.4334 - mean_absolute_error: 41.4334 - val_loss: 45.2181 - val_mean_absolute_error: 45.2181\n",
      "Epoch 97/100\n",
      "611/611 [==============================] - 0s 106us/sample - loss: 41.4197 - mean_absolute_error: 41.4197 - val_loss: 47.6657 - val_mean_absolute_error: 47.6657\n",
      "Epoch 98/100\n",
      "611/611 [==============================] - 0s 126us/sample - loss: 42.5081 - mean_absolute_error: 42.5081 - val_loss: 46.1927 - val_mean_absolute_error: 46.1927\n",
      "Epoch 99/100\n",
      "611/611 [==============================] - 0s 118us/sample - loss: 41.4053 - mean_absolute_error: 41.4053 - val_loss: 46.2195 - val_mean_absolute_error: 46.2195\n",
      "Epoch 100/100\n",
      "611/611 [==============================] - 0s 123us/sample - loss: 41.3884 - mean_absolute_error: 41.3884 - val_loss: 45.3624 - val_mean_absolute_error: 45.3624\n"
     ]
    }
   ],
   "source": [
    "# input layer\n",
    "ann.add(Dense(input_dim=X_train.shape[1], units=128, kernel_initializer='glorot_normal', activation='relu',))\n",
    "\n",
    "# hidden layers\n",
    "ann.add(Dense(units=256, kernel_initializer='glorot_normal', activation='relu',))\n",
    "ann.add(Dense(units=256, kernel_initializer='glorot_normal', activation='relu',))\n",
    "\n",
    "# output layer\n",
    "ann.add(Dense(units=1, kernel_initializer='glorot_normal', activation='linear'))\n",
    "\n",
    "ann.compile(loss='mean_absolute_error', optimizer='adam', metrics=['mean_absolute_error'])\n",
    "\n",
    "# fit\n",
    "model = ann.fit(X_train, y_train, validation_split=0.3, batch_size=500, epochs=100)"
   ]
  },
  {
   "cell_type": "code",
   "execution_count": 21,
   "metadata": {},
   "outputs": [
    {
     "name": "stdout",
     "output_type": "stream",
     "text": [
      "Model: \"sequential_1\"\n",
      "_________________________________________________________________\n",
      "Layer (type)                 Output Shape              Param #   \n",
      "=================================================================\n",
      "dense_17 (Dense)             (None, 128)               1152      \n",
      "_________________________________________________________________\n",
      "dense_18 (Dense)             (None, 256)               33024     \n",
      "_________________________________________________________________\n",
      "dense_19 (Dense)             (None, 256)               65792     \n",
      "_________________________________________________________________\n",
      "dense_20 (Dense)             (None, 1)                 257       \n",
      "_________________________________________________________________\n",
      "dense_21 (Dense)             (None, 128)               256       \n",
      "_________________________________________________________________\n",
      "dense_22 (Dense)             (None, 256)               33024     \n",
      "_________________________________________________________________\n",
      "dense_23 (Dense)             (None, 256)               65792     \n",
      "_________________________________________________________________\n",
      "dense_24 (Dense)             (None, 1)                 257       \n",
      "_________________________________________________________________\n",
      "dense_25 (Dense)             (None, 128)               256       \n",
      "_________________________________________________________________\n",
      "dense_26 (Dense)             (None, 256)               33024     \n",
      "_________________________________________________________________\n",
      "dense_27 (Dense)             (None, 256)               65792     \n",
      "_________________________________________________________________\n",
      "dense_28 (Dense)             (None, 1)                 257       \n",
      "=================================================================\n",
      "Total params: 298,883\n",
      "Trainable params: 298,883\n",
      "Non-trainable params: 0\n",
      "_________________________________________________________________\n"
     ]
    }
   ],
   "source": [
    "ann.summary()"
   ]
  },
  {
   "cell_type": "code",
   "execution_count": 23,
   "metadata": {},
   "outputs": [
    {
     "name": "stdout",
     "output_type": "stream",
     "text": [
      "WARNING:tensorflow:Falling back from v2 loop because of error: Failed to find data adapter that can handle input: <class 'pandas.core.frame.DataFrame'>, <class 'NoneType'>\n"
     ]
    }
   ],
   "source": [
    "pred_ann = ann.predict(X_test)"
   ]
  },
  {
   "cell_type": "code",
   "execution_count": 25,
   "metadata": {},
   "outputs": [
    {
     "data": {
      "text/plain": [
       "4213.438488284867"
      ]
     },
     "execution_count": 25,
     "metadata": {},
     "output_type": "execute_result"
    }
   ],
   "source": [
    "mean_squared_error(y_test, pred_ann)"
   ]
  },
  {
   "cell_type": "code",
   "execution_count": 29,
   "metadata": {},
   "outputs": [
    {
     "data": {
      "text/plain": [
       "<matplotlib.axes._subplots.AxesSubplot at 0x1ef9200cb08>"
      ]
     },
     "execution_count": 29,
     "metadata": {},
     "output_type": "execute_result"
    },
    {
     "data": {
      "image/png": "[encoded data removed]",
      "text/plain": [
       "<Figure size 432x288 with 1 Axes>"
      ]
     },
     "metadata": {
      "needs_background": "light"
     },
     "output_type": "display_data"
    }
   ],
   "source": [
    "sns.distplot(y_test.values.reshape(-1,1)-pred_ann)"
   ]
  },
  {
   "cell_type": "code",
   "execution_count": 30,
   "metadata": {},
   "outputs": [
    {
     "data": {
      "text/plain": [
       "4203.946453516842"
      ]
     },
     "execution_count": 30,
     "metadata": {},
     "output_type": "execute_result"
    }
   ],
   "source": [
    "(y_test.values.reshape(-1,1)-pred_ann).var()"
   ]
  },
  {
   "cell_type": "code",
   "execution_count": null,
   "metadata": {},
   "outputs": [],
   "source": []
  }
 ],
 "metadata": {
  "kernelspec": {
   "display_name": "Python 3",
   "language": "python",
   "name": "python3"
  },
  "language_info": {
   "codemirror_mode": {
    "name": "ipython",
    "version": 3
   },
   "file_extension": ".py",
   "mimetype": "text/x-python",
   "name": "python",
   "nbconvert_exporter": "python",
   "pygments_lexer": "ipython3",
   "version": "3.7.4"
  }
 },
 "nbformat": 4,
 "nbformat_minor": 2
}
